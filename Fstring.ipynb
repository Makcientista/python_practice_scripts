{
 "cells": [
  {
   "cell_type": "code",
   "execution_count": 3,
   "id": "9efa9937-5184-4a32-b0fd-62ed503c8901",
   "metadata": {},
   "outputs": [
    {
     "name": "stdout",
     "output_type": "stream",
     "text": [
      "O faturamento da loja foi de 2000 e o custo de 500 e o lucro de 1500\n",
      "O faturamento da loja foi de 2000 e o custo de 500 e o lucro de 1500\n"
     ]
    }
   ],
   "source": [
    "faturamento = 2000\n",
    "custo = 500\n",
    "lucro = faturamento - custo\n",
    "\n",
    "print(f\"O faturamento da loja foi de {faturamento} e o custo de {custo} e o lucro de {lucro}\")\n",
    "print(f\"O faturamento da loja foi de {faturamento} e o custo de {custo} e o lucro de {faturamento - custo}\")"
   ]
  },
  {
   "cell_type": "markdown",
   "id": "b93e4bf7-f4ad-4dc7-b735-c6be03e9389c",
   "metadata": {},
   "source": [
    "## Mudança de Variaveis"
   ]
  },
  {
   "cell_type": "code",
   "execution_count": 9,
   "id": "ba99e86b-8488-4568-a0f1-a2ce64b60b36",
   "metadata": {},
   "outputs": [
    {
     "name": "stdin",
     "output_type": "stream",
     "text": [
      "insira o faturamento 188.90\n",
      "insira o custo 800\n"
     ]
    },
    {
     "name": "stdout",
     "output_type": "stream",
     "text": [
      "-611.1\n"
     ]
    }
   ],
   "source": [
    "faturamento = float (input(\"insira o faturamento\"))\n",
    "custo = float (input(\"insira o custo\"))\n",
    "\n",
    "lucro = faturamento - custo\n",
    "print(lucro)"
   ]
  },
  {
   "cell_type": "code",
   "execution_count": null,
   "id": "97f8e779-cdb1-4c64-b4fb-246eaede76f0",
   "metadata": {},
   "outputs": [],
   "source": []
  }
 ],
 "metadata": {
  "kernelspec": {
   "display_name": "Python 3 (ipykernel)",
   "language": "python",
   "name": "python3"
  },
  "language_info": {
   "codemirror_mode": {
    "name": "ipython",
    "version": 3
   },
   "file_extension": ".py",
   "mimetype": "text/x-python",
   "name": "python",
   "nbconvert_exporter": "python",
   "pygments_lexer": "ipython3",
   "version": "3.12.7"
  }
 },
 "nbformat": 4,
 "nbformat_minor": 5
}
