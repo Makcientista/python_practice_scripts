{
 "cells": [
  {
   "cell_type": "markdown",
   "id": "9a28acbd-d62b-43e6-8a3e-1e08cf956469",
   "metadata": {},
   "source": [
    " ### Faturamento do Melhor e Pior mês do ano\n",
    "\n",
    " Qual foi o valor de venda do melhor mês do ano? E o valor do pior mês do ano? "
   ]
  },
  {
   "cell_type": "code",
   "execution_count": 16,
   "id": "c9f42336-8d99-4b0e-8afa-a5c75dd7a10a",
   "metadata": {},
   "outputs": [
    {
     "name": "stdout",
     "output_type": "stream",
     "text": [
      "[25000, 29000, 22200, 17750, 15870, 19900, 19850, 20120, 17540, 15555, 49051, 9650]\n",
      "49051\n",
      "9650\n"
     ]
    }
   ],
   "source": [
    "mes = [ 'JAN', 'FEV', 'MAR', 'ABR', 'MAI', 'JUN', 'JUL', 'AGO', 'SET', 'OUT', 'NOV', 'DEC']\n",
    "vendas_1sem = [25000, 29000, 22200, 17750, 15870, 19900]\n",
    "vendas_2sem = [19850, 20120, 17540, 15555, 49051, 9650]\n",
    "\n",
    "vendas_1sem.extend(vendas_2sem)\n",
    "print(vendas_1sem)\n",
    "maior_valor = max(vendas_1sem)\n",
    "print(maior_valor)\n",
    "menor_valor = min(vendas_1sem)\n",
    "print(menor_valor)\n"
   ]
  },
  {
   "cell_type": "markdown",
   "id": "60575e09-ebc8-4ad3-b97b-736f58a41fc7",
   "metadata": {},
   "source": [
    "### Continuação\n",
    "\n",
    "Agora relacione as duas listas para printar 'O melhor mês do ano foi {} com {} vendas' e o mesmo para o pior mês do ano.\n",
    "\n",
    "Calcule também o faturamento total do Ano e quanto que o melhor mês representou do faturamento total.\n",
    "\n",
    "Obs. Para o faturmaento total, pode usar a função sum(lista) que soma todos os itens de uma lista"
   ]
  },
  {
   "cell_type": "code",
   "execution_count": 28,
   "id": "3d85fc8b-f1c6-40ce-badc-684c05295508",
   "metadata": {},
   "outputs": [
    {
     "name": "stdout",
     "output_type": "stream",
     "text": [
      "Melhor mês do ano foi NOV com vendas 49051\n",
      "Faturamento Total: R$261,486\n",
      "Faturamento mês representou 18.8% das vendas do ano todo\n"
     ]
    }
   ],
   "source": [
    "i_maior_valor = vendas_1sem.index(maior_valor)\n",
    "i_menos_valor = vendas_1sem.index(menor_valor)\n",
    "print('Melhor mês do ano foi {} com vendas {}'.format(mes[i_maior_valor],maior_valor))\n",
    "\n",
    "fat_total = sum(vendas_1sem)\n",
    "print('Faturamento Total: R${:,}'.format(fat_total))\n",
    "\n",
    "percentual = maior_valor / fat_total\n",
    "print('Faturamento mês representou {:.1%} das vendas do ano todo'.format(percentual))"
   ]
  },
  {
   "cell_type": "code",
   "execution_count": null,
   "id": "41ce3e5e-48a1-4b5f-b8f9-2a4205ebc15f",
   "metadata": {},
   "outputs": [],
   "source": []
  },
  {
   "cell_type": "markdown",
   "id": "2caa54fd-314e-499c-a0a8-80cd8b11ec35",
   "metadata": {},
   "source": [
    "### Crie uma lista com o top  valores de vendas do ano (sem fazer\"no olho\")\n",
    "Dica: o método remove retira um item da lista"
   ]
  },
  {
   "cell_type": "code",
   "execution_count": null,
   "id": "5852441e-2755-4037-8bb9-d6eccc34d676",
   "metadata": {},
   "outputs": [],
   "source": []
  }
 ],
 "metadata": {
  "kernelspec": {
   "display_name": "Python 3 (ipykernel)",
   "language": "python",
   "name": "python3"
  },
  "language_info": {
   "codemirror_mode": {
    "name": "ipython",
    "version": 3
   },
   "file_extension": ".py",
   "mimetype": "text/x-python",
   "name": "python",
   "nbconvert_exporter": "python",
   "pygments_lexer": "ipython3",
   "version": "3.12.7"
  }
 },
 "nbformat": 4,
 "nbformat_minor": 5
}
