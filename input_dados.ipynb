{
 "cells": [
  {
   "cell_type": "code",
   "execution_count": 2,
   "id": "dd48e599-f86b-4065-bd58-850bc61dd616",
   "metadata": {},
   "outputs": [
    {
     "name": "stdin",
     "output_type": "stream",
     "text": [
      "Qual é o seu nome?  makiesse\n",
      "Qual o seu sobrenome Kiassungua\n"
     ]
    },
    {
     "name": "stdout",
     "output_type": "stream",
     "text": [
      "makiesse Kiassungua\n"
     ]
    }
   ],
   "source": [
    "nome = input('Qual é o seu nome? ')\n",
    "sobrenome = input('Qual o seu sobrenome')\n",
    "print(nome + ' ' + sobrenome)"
   ]
  },
  {
   "cell_type": "code",
   "execution_count": null,
   "id": "f6d76409-05e7-4a98-b336-33d13a000368",
   "metadata": {},
   "outputs": [],
   "source": []
  }
 ],
 "metadata": {
  "kernelspec": {
   "display_name": "Python 3 (ipykernel)",
   "language": "python",
   "name": "python3"
  },
  "language_info": {
   "codemirror_mode": {
    "name": "ipython",
    "version": 3
   },
   "file_extension": ".py",
   "mimetype": "text/x-python",
   "name": "python",
   "nbconvert_exporter": "python",
   "pygments_lexer": "ipython3",
   "version": "3.12.7"
  }
 },
 "nbformat": 4,
 "nbformat_minor": 5
}
